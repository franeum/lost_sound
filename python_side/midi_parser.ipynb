{
 "cells": [
  {
   "cell_type": "code",
   "execution_count": 29,
   "id": "2267336e-bab7-438f-9e1b-dc09eb9b4e86",
   "metadata": {},
   "outputs": [],
   "source": [
    "import mido\n",
    "import serial\n",
    "import time"
   ]
  },
  {
   "cell_type": "code",
   "execution_count": 62,
   "id": "16b6af2c-136d-452f-ac94-600ee6f1f601",
   "metadata": {},
   "outputs": [],
   "source": [
    "path = './midi_examples/2channel.mid'"
   ]
  },
  {
   "cell_type": "code",
   "execution_count": 63,
   "id": "a20265cc-d661-4ced-8390-5d67d38ea750",
   "metadata": {},
   "outputs": [],
   "source": [
    "midi = mido.MidiFile(path)"
   ]
  },
  {
   "cell_type": "code",
   "execution_count": 64,
   "id": "5a846bad-b9bf-4e67-a7b9-8a341c77f596",
   "metadata": {},
   "outputs": [],
   "source": [
    "port = mido.open_output('Midi Through:Midi Through Port-0 14:0')"
   ]
  },
  {
   "cell_type": "code",
   "execution_count": 65,
   "id": "b0c09f2e-d48f-4671-b9b0-f0feedacd4fc",
   "metadata": {},
   "outputs": [],
   "source": [
    "NOTE_ON = 144\n",
    "\n",
    "def compose_msg(channel, note, velocity):\n",
    "    status_byte = NOTE_ON + channel\n",
    "    return f\"{status_byte} {note} {scale_vel(velocity)}\\n\".encode()"
   ]
  },
  {
   "cell_type": "code",
   "execution_count": 66,
   "id": "c05085d0-34fb-4e30-956a-81c7ae46abcc",
   "metadata": {},
   "outputs": [],
   "source": [
    "def scale_vel(v):\n",
    "    return round(15 - (v / 127 * 15))"
   ]
  },
  {
   "cell_type": "code",
   "execution_count": 12,
   "id": "12d9368e-2418-48a9-8d37-e0214cccfcd3",
   "metadata": {},
   "outputs": [],
   "source": [
    "import serial.tools.list_ports as l_port"
   ]
  },
  {
   "cell_type": "code",
   "execution_count": 14,
   "id": "72efb844-0c7c-4d11-9d08-08c9ee7337c9",
   "metadata": {},
   "outputs": [],
   "source": [
    "porta = l_port.comports()[0]"
   ]
  },
  {
   "cell_type": "code",
   "execution_count": 17,
   "id": "831c0891-c107-4872-9d5d-1e783812f93c",
   "metadata": {},
   "outputs": [
    {
     "data": {
      "text/plain": [
       "'ttyACM0'"
      ]
     },
     "execution_count": 17,
     "metadata": {},
     "output_type": "execute_result"
    }
   ],
   "source": [
    "porta.name"
   ]
  },
  {
   "cell_type": "code",
   "execution_count": 26,
   "id": "eb1c5f3d-2cd5-45de-b0ec-95173a4565dc",
   "metadata": {},
   "outputs": [],
   "source": [
    "conn = serial.Serial('/dev/ttyACM0', 115200)"
   ]
  },
  {
   "cell_type": "code",
   "execution_count": 27,
   "id": "9026ef38-be73-4258-9c49-374ecc7ab5da",
   "metadata": {},
   "outputs": [],
   "source": [
    "msg = \"144 60 80\".encode()\n",
    "conn.write(msg)\n",
    "conn.close()"
   ]
  },
  {
   "cell_type": "code",
   "execution_count": 31,
   "id": "501ac060-3963-4ffd-bd4b-8e3978bba499",
   "metadata": {},
   "outputs": [],
   "source": [
    "conn.close()"
   ]
  },
  {
   "cell_type": "code",
   "execution_count": 70,
   "id": "fbe9af6e-7c7d-485a-bf22-438b20623f34",
   "metadata": {
    "scrolled": true
   },
   "outputs": [],
   "source": [
    "conn = serial.Serial('/dev/ttyACM0', 115200)\n",
    "\n",
    "time.sleep(5)\n",
    "\n",
    "for ev in midi.play():\n",
    "    edict = ev.dict()\n",
    "    if edict['type'] == 'note_on':\n",
    "        channel = edict['channel']\n",
    "        note = edict['note']\n",
    "        vel = edict['velocity']\n",
    "        msg = compose_msg(channel, note, vel)\n",
    "        conn.write(msg)\n",
    "\n",
    "conn.close()"
   ]
  }
 ],
 "metadata": {
  "kernelspec": {
   "display_name": "lost",
   "language": "python",
   "name": "lost"
  },
  "language_info": {
   "codemirror_mode": {
    "name": "ipython",
    "version": 3
   },
   "file_extension": ".py",
   "mimetype": "text/x-python",
   "name": "python",
   "nbconvert_exporter": "python",
   "pygments_lexer": "ipython3",
   "version": "3.11.2"
  }
 },
 "nbformat": 4,
 "nbformat_minor": 5
}
